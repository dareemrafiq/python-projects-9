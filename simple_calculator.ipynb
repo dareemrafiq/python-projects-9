{
  "nbformat": 4,
  "nbformat_minor": 0,
  "metadata": {
    "colab": {
      "provenance": [],
      "authorship_tag": "ABX9TyOPvM32dRjProIqJmhDy5i3",
      "include_colab_link": true
    },
    "kernelspec": {
      "name": "python3",
      "display_name": "Python 3"
    },
    "language_info": {
      "name": "python"
    }
  },
  "cells": [
    {
      "cell_type": "markdown",
      "metadata": {
        "id": "view-in-github",
        "colab_type": "text"
      },
      "source": [
        "<a href=\"https://colab.research.google.com/github/dareemrafiq/python-projects-9/blob/main/simple_calculator.ipynb\" target=\"_parent\"><img src=\"https://colab.research.google.com/assets/colab-badge.svg\" alt=\"Open In Colab\"/></a>"
      ]
    },
    {
      "cell_type": "code",
      "execution_count": null,
      "metadata": {
        "id": "MgKpkGLh_0iY"
      },
      "outputs": [],
      "source": []
    },
    {
      "cell_type": "markdown",
      "source": [
        "# **simple_calculator**"
      ],
      "metadata": {
        "id": "6he7R9gX_5fZ"
      }
    },
    {
      "cell_type": "code",
      "source": [
        "def calculator(first_num, second_num, operation):\n",
        "    if operation == \"+\" :\n",
        "       print(first_num + second_num)\n",
        "    elif operation == \"-\" :\n",
        "       print(first_num - second_num)\n",
        "    elif operation == \"*\" :\n",
        "       print(first_num * second_num)\n",
        "    elif operation == \"/\" :\n",
        "       print(first_num / second_num)\n",
        "    elif operation == \"//\" :\n",
        "       print(first_num // second_num)\n",
        "\n",
        "first_num=int(input(\"Enter your first_num...\"))\n",
        "second_num=int(input(\"Enter your second_num...\"))\n",
        "operation=(input(\"Enter your operation...\"))\n",
        "\n",
        "calculator(first_num, second_num, operation)"
      ],
      "metadata": {
        "colab": {
          "base_uri": "https://localhost:8080/"
        },
        "id": "iN5mPUmw_-G3",
        "outputId": "26f78ab0-c595-4923-a8d3-8f0322b80585"
      },
      "execution_count": 1,
      "outputs": [
        {
          "output_type": "stream",
          "name": "stdout",
          "text": [
            "Enter your first_num...9\n",
            "Enter your second_num...9\n",
            "Enter your operation...*\n",
            "81\n"
          ]
        }
      ]
    }
  ]
}