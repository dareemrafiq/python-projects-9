{
  "nbformat": 4,
  "nbformat_minor": 0,
  "metadata": {
    "colab": {
      "provenance": [],
      "authorship_tag": "ABX9TyOnYjDovXYLoKA6xiVZ2jsw",
      "include_colab_link": true
    },
    "kernelspec": {
      "name": "python3",
      "display_name": "Python 3"
    },
    "language_info": {
      "name": "python"
    }
  },
  "cells": [
    {
      "cell_type": "markdown",
      "metadata": {
        "id": "view-in-github",
        "colab_type": "text"
      },
      "source": [
        "<a href=\"https://colab.research.google.com/github/dareemrafiq/python-projects-9/blob/main/madlibs.ipynb\" target=\"_parent\"><img src=\"https://colab.research.google.com/assets/colab-badge.svg\" alt=\"Open In Colab\"/></a>"
      ]
    },
    {
      "cell_type": "code",
      "execution_count": null,
      "metadata": {
        "id": "F68KaYou-Waw"
      },
      "outputs": [],
      "source": []
    },
    {
      "cell_type": "markdown",
      "source": [
        "# **madlibs**"
      ],
      "metadata": {
        "id": "3CAQlhkg-bnI"
      }
    },
    {
      "cell_type": "code",
      "source": [
        "def mad_libs():\n",
        "   animal=str(input(\"Enter animal...\"))\n",
        "   name=str(input(\"Enter name...\"))\n",
        "   verb=str(input(\"Enter verb...\"))\n",
        "   adjective=str(input(\"Enter adjective...\"))\n",
        "   place=str(input(\"Enter place...\"))\n",
        "\n",
        "   story=f\"Long time ago, there was a {animal} named {name} . {name} liked to {verb} honey.{name} was a cute little {animal} but he was {adjective}.He enjoyed playing in the {place}.On sunny day he saw a {animal} hive set on fire.He was {adjective} enough to help other {animal} out\"\n",
        "   print (story)\n",
        "mad_libs()"
      ],
      "metadata": {
        "colab": {
          "base_uri": "https://localhost:8080/"
        },
        "id": "U-B8xxVE-gPz",
        "outputId": "3fa731e8-3164-4d5d-9df8-29188496b1c4"
      },
      "execution_count": 1,
      "outputs": [
        {
          "output_type": "stream",
          "name": "stdout",
          "text": [
            "Enter animal...bee\n",
            "Enter name...Billy\n",
            "Enter verb...eat\n",
            "Enter adjective...brave\n",
            "Enter place...garden\n",
            "Long time ago, there was a bee named Billy . Billy liked to eat honey.Billy was a cute little bee but he was brave.He enjoyed playing in the garden.On sunny day he saw a bee hive set on fire.He was brave enough to help other bee out\n"
          ]
        }
      ]
    }
  ]
}